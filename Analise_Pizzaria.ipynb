{
 "cells": [
  {
   "cell_type": "markdown",
   "metadata": {},
   "source": [
    "# Importing Libraries"
   ]
  },
  {
   "cell_type": "code",
   "execution_count": 1,
   "metadata": {},
   "outputs": [
    {
     "data": {
      "text/html": [
       "        <script type=\"text/javascript\">\n",
       "        window.PlotlyConfig = {MathJaxConfig: 'local'};\n",
       "        if (window.MathJax) {MathJax.Hub.Config({SVG: {font: \"STIX-Web\"}});}\n",
       "        if (typeof require !== 'undefined') {\n",
       "        require.undef(\"plotly\");\n",
       "        requirejs.config({\n",
       "            paths: {\n",
       "                'plotly': ['https://cdn.plot.ly/plotly-latest.min']\n",
       "            }\n",
       "        });\n",
       "        require(['plotly'], function(Plotly) {\n",
       "            window._Plotly = Plotly;\n",
       "        });\n",
       "        }\n",
       "        </script>\n",
       "        "
      ]
     },
     "metadata": {},
     "output_type": "display_data"
    }
   ],
   "source": [
    "import pandas as pd\n",
    "import numpy as np\n",
    "import matplotlib.pyplot as plt\n",
    "%matplotlib inline\n",
    "import datetime as dt\n",
    "import plotly.offline as py#visualization\n",
    "py.init_notebook_mode(connected=True)#visualization\n",
    "import plotly.graph_objs as go#visualization\n",
    "import plotly.tools as tls#visualization\n",
    "import plotly.figure_factory as ff#visualization"
   ]
  },
  {
   "cell_type": "markdown",
   "metadata": {},
   "source": [
    "### Lengends:\n",
    "\n",
    "**data_pedido** :         pizza order date<br>\n",
    "**hora_pedido** :         pizza order time<br>\n",
    "**tipo_entrega** :        pizza picked up on site or delivered<br>\n",
    "**valor_borda** :         pizza,bordered or without<br>\n",
    "**valor_refrigerante** :  bought soda yes or no<br>\n",
    "**valor_total** :         total purchase amount<br>\n",
    "**tempo** :               pizza delivery time<br>"
   ]
  },
  {
   "cell_type": "markdown",
   "metadata": {},
   "source": [
    "# Data Overview"
   ]
  },
  {
   "cell_type": "code",
   "execution_count": 2,
   "metadata": {},
   "outputs": [
    {
     "data": {
      "text/html": [
       "<div>\n",
       "<style scoped>\n",
       "    .dataframe tbody tr th:only-of-type {\n",
       "        vertical-align: middle;\n",
       "    }\n",
       "\n",
       "    .dataframe tbody tr th {\n",
       "        vertical-align: top;\n",
       "    }\n",
       "\n",
       "    .dataframe thead th {\n",
       "        text-align: right;\n",
       "    }\n",
       "</style>\n",
       "<table border=\"1\" class=\"dataframe\">\n",
       "  <thead>\n",
       "    <tr style=\"text-align: right;\">\n",
       "      <th></th>\n",
       "      <th>data_pedido</th>\n",
       "      <th>hora_pedido</th>\n",
       "      <th>tipo_entrega</th>\n",
       "      <th>valor_borda</th>\n",
       "      <th>valor_refrigerante</th>\n",
       "      <th>valor_total</th>\n",
       "      <th>tempo</th>\n",
       "    </tr>\n",
       "  </thead>\n",
       "  <tbody>\n",
       "    <tr>\n",
       "      <td>0</td>\n",
       "      <td>2011-10-07</td>\n",
       "      <td>2020-01-06 18:45:00</td>\n",
       "      <td>Buscar</td>\n",
       "      <td>0.0</td>\n",
       "      <td>0.0</td>\n",
       "      <td>32.0</td>\n",
       "      <td>2020-01-06 00:30:00</td>\n",
       "    </tr>\n",
       "    <tr>\n",
       "      <td>1</td>\n",
       "      <td>2011-10-07</td>\n",
       "      <td>2020-01-06 18:47:00</td>\n",
       "      <td>Buscar</td>\n",
       "      <td>0.0</td>\n",
       "      <td>0.0</td>\n",
       "      <td>30.0</td>\n",
       "      <td>2020-01-06 00:43:00</td>\n",
       "    </tr>\n",
       "    <tr>\n",
       "      <td>2</td>\n",
       "      <td>2011-10-07</td>\n",
       "      <td>2020-01-06 18:49:00</td>\n",
       "      <td>Buscar</td>\n",
       "      <td>0.0</td>\n",
       "      <td>0.0</td>\n",
       "      <td>27.0</td>\n",
       "      <td>2020-01-06 00:42:00</td>\n",
       "    </tr>\n",
       "    <tr>\n",
       "      <td>3</td>\n",
       "      <td>2011-10-07</td>\n",
       "      <td>2020-01-06 18:50:00</td>\n",
       "      <td>Buscar</td>\n",
       "      <td>0.0</td>\n",
       "      <td>0.0</td>\n",
       "      <td>30.0</td>\n",
       "      <td>2020-01-06 00:40:00</td>\n",
       "    </tr>\n",
       "    <tr>\n",
       "      <td>4</td>\n",
       "      <td>2011-10-07</td>\n",
       "      <td>2020-01-06 18:52:00</td>\n",
       "      <td>Buscar</td>\n",
       "      <td>0.0</td>\n",
       "      <td>0.0</td>\n",
       "      <td>30.0</td>\n",
       "      <td>2020-01-06 00:23:00</td>\n",
       "    </tr>\n",
       "  </tbody>\n",
       "</table>\n",
       "</div>"
      ],
      "text/plain": [
       "  data_pedido         hora_pedido tipo_entrega  valor_borda  \\\n",
       "0  2011-10-07 2020-01-06 18:45:00       Buscar          0.0   \n",
       "1  2011-10-07 2020-01-06 18:47:00       Buscar          0.0   \n",
       "2  2011-10-07 2020-01-06 18:49:00       Buscar          0.0   \n",
       "3  2011-10-07 2020-01-06 18:50:00       Buscar          0.0   \n",
       "4  2011-10-07 2020-01-06 18:52:00       Buscar          0.0   \n",
       "\n",
       "   valor_refrigerante  valor_total               tempo  \n",
       "0                 0.0         32.0 2020-01-06 00:30:00  \n",
       "1                 0.0         30.0 2020-01-06 00:43:00  \n",
       "2                 0.0         27.0 2020-01-06 00:42:00  \n",
       "3                 0.0         30.0 2020-01-06 00:40:00  \n",
       "4                 0.0         30.0 2020-01-06 00:23:00  "
      ]
     },
     "execution_count": 2,
     "metadata": {},
     "output_type": "execute_result"
    }
   ],
   "source": [
    "data = pd.read_csv('dados_pizzaria.csv', parse_dates = ['data_pedido','hora_pedido','tempo'])\n",
    "data.head()"
   ]
  },
  {
   "cell_type": "markdown",
   "metadata": {},
   "source": [
    "# Data investigation"
   ]
  },
  {
   "cell_type": "code",
   "execution_count": 3,
   "metadata": {},
   "outputs": [
    {
     "name": "stdout",
     "output_type": "stream",
     "text": [
      "Number of values null:\n",
      " data_pedido           0\n",
      "hora_pedido           0\n",
      "tipo_entrega          0\n",
      "valor_borda           0\n",
      "valor_refrigerante    0\n",
      "valor_total           0\n",
      "tempo                 0\n",
      "dtype: int64\n",
      "=================================================================================================================================================\n",
      "Number of lines: 2272\n",
      "Number of columns: 7\n",
      "=================================================================================================================================================\n",
      "Values Uniques: data_pedido           112\n",
      "hora_pedido           330\n",
      "tipo_entrega            3\n",
      "valor_borda             3\n",
      "valor_refrigerante      8\n",
      "valor_total            68\n",
      "tempo                  46\n",
      "dtype: int64\n"
     ]
    }
   ],
   "source": [
    "# checking values null\n",
    "print('Number of values null:\\n',data.isnull().sum())\n",
    "print('='*145)\n",
    "# checking number of lines and columns\n",
    "print('Number of lines:', data.shape[0])\n",
    "print('Number of columns:', data.shape[1])\n",
    "print('='*145)\n",
    "# checking values uniques\n",
    "print('Values Uniques:',data.nunique())"
   ]
  },
  {
   "cell_type": "code",
   "execution_count": 4,
   "metadata": {},
   "outputs": [
    {
     "name": "stdout",
     "output_type": "stream",
     "text": [
      "Checking value of column tipo_entrega \n",
      " Entrega    1318\n",
      "Buscar      937\n",
      "buscar       17\n",
      "Name: tipo_entrega, dtype: int64\n",
      "=================================================================================================================================================\n",
      "Checking value of column valor_borda \n",
      " 0.0    1989\n",
      "2.5     153\n",
      "3.0     130\n",
      "Name: valor_borda, dtype: int64\n",
      "=================================================================================================================================================\n",
      "Checking value of column valor_refrigerante \n",
      " 0.0    1868\n",
      "4.5     215\n",
      "4.0      88\n",
      "5.0      81\n",
      "2.0       7\n",
      "8.5       6\n",
      "2.5       5\n",
      "9.0       2\n",
      "Name: valor_refrigerante, dtype: int64\n",
      "=================================================================================================================================================\n"
     ]
    }
   ],
   "source": [
    "print('Checking value of column tipo_entrega \\n',data['tipo_entrega'].value_counts())\n",
    "print('='*145)\n",
    "print('Checking value of column valor_borda \\n',data['valor_borda'].value_counts())\n",
    "print('='*145)\n",
    "print('Checking value of column valor_refrigerante \\n',data['valor_refrigerante'].value_counts())\n",
    "print('='*145)"
   ]
  },
  {
   "cell_type": "markdown",
   "metadata": {},
   "source": [
    "### Conclusions\n",
    "\n",
    "1. The columns **hora_pedido** and **tempo** let's just keep hours and minute\n",
    "2. the columns **valor_borda** and **valor_refrigerante** let's rename to **borda** and **refrigerante**\n",
    "3. the column **tipo_entrega** Capitalizing all records"
   ]
  },
  {
   "cell_type": "markdown",
   "metadata": {},
   "source": [
    "# Cleaning up Data"
   ]
  },
  {
   "cell_type": "code",
   "execution_count": 5,
   "metadata": {},
   "outputs": [],
   "source": [
    "# converting  \" hora_pedido \" in just hour\n",
    "data['hora_pedido'] = data['hora_pedido'].dt.hour\n",
    "\n",
    "# converting  \" tempo \" in just minute\n",
    "data['tempo'] = data['tempo'].dt.minute\n",
    "\n",
    "# renaming  \" valor_borda \" to \"borda \" and \" valor_refrigerante \" to \"refrigerante \"\n",
    "data.rename(columns = {'valor_borda':'borda', 'valor_refrigerante':'refrigerante'}, inplace = True) \n",
    "\n",
    "# Capitalizing all records\n",
    "data['tipo_entrega'] = data['tipo_entrega'].str.capitalize()\n",
    "\n",
    "\n"
   ]
  },
  {
   "cell_type": "code",
   "execution_count": 6,
   "metadata": {},
   "outputs": [
    {
     "data": {
      "text/html": [
       "<div>\n",
       "<style scoped>\n",
       "    .dataframe tbody tr th:only-of-type {\n",
       "        vertical-align: middle;\n",
       "    }\n",
       "\n",
       "    .dataframe tbody tr th {\n",
       "        vertical-align: top;\n",
       "    }\n",
       "\n",
       "    .dataframe thead th {\n",
       "        text-align: right;\n",
       "    }\n",
       "</style>\n",
       "<table border=\"1\" class=\"dataframe\">\n",
       "  <thead>\n",
       "    <tr style=\"text-align: right;\">\n",
       "      <th></th>\n",
       "      <th>data_pedido</th>\n",
       "      <th>hora_pedido</th>\n",
       "      <th>tipo_entrega</th>\n",
       "      <th>borda</th>\n",
       "      <th>refrigerante</th>\n",
       "      <th>valor_total</th>\n",
       "      <th>tempo</th>\n",
       "    </tr>\n",
       "  </thead>\n",
       "  <tbody>\n",
       "    <tr>\n",
       "      <td>0</td>\n",
       "      <td>2011-10-07</td>\n",
       "      <td>18</td>\n",
       "      <td>Buscar</td>\n",
       "      <td>0.0</td>\n",
       "      <td>0.0</td>\n",
       "      <td>32.0</td>\n",
       "      <td>30</td>\n",
       "    </tr>\n",
       "    <tr>\n",
       "      <td>1</td>\n",
       "      <td>2011-10-07</td>\n",
       "      <td>18</td>\n",
       "      <td>Buscar</td>\n",
       "      <td>0.0</td>\n",
       "      <td>0.0</td>\n",
       "      <td>30.0</td>\n",
       "      <td>43</td>\n",
       "    </tr>\n",
       "    <tr>\n",
       "      <td>2</td>\n",
       "      <td>2011-10-07</td>\n",
       "      <td>18</td>\n",
       "      <td>Buscar</td>\n",
       "      <td>0.0</td>\n",
       "      <td>0.0</td>\n",
       "      <td>27.0</td>\n",
       "      <td>42</td>\n",
       "    </tr>\n",
       "    <tr>\n",
       "      <td>3</td>\n",
       "      <td>2011-10-07</td>\n",
       "      <td>18</td>\n",
       "      <td>Buscar</td>\n",
       "      <td>0.0</td>\n",
       "      <td>0.0</td>\n",
       "      <td>30.0</td>\n",
       "      <td>40</td>\n",
       "    </tr>\n",
       "    <tr>\n",
       "      <td>4</td>\n",
       "      <td>2011-10-07</td>\n",
       "      <td>18</td>\n",
       "      <td>Buscar</td>\n",
       "      <td>0.0</td>\n",
       "      <td>0.0</td>\n",
       "      <td>30.0</td>\n",
       "      <td>23</td>\n",
       "    </tr>\n",
       "  </tbody>\n",
       "</table>\n",
       "</div>"
      ],
      "text/plain": [
       "  data_pedido  hora_pedido tipo_entrega  borda  refrigerante  valor_total  \\\n",
       "0  2011-10-07           18       Buscar    0.0           0.0         32.0   \n",
       "1  2011-10-07           18       Buscar    0.0           0.0         30.0   \n",
       "2  2011-10-07           18       Buscar    0.0           0.0         27.0   \n",
       "3  2011-10-07           18       Buscar    0.0           0.0         30.0   \n",
       "4  2011-10-07           18       Buscar    0.0           0.0         30.0   \n",
       "\n",
       "   tempo  \n",
       "0     30  \n",
       "1     43  \n",
       "2     42  \n",
       "3     40  \n",
       "4     23  "
      ]
     },
     "execution_count": 6,
     "metadata": {},
     "output_type": "execute_result"
    }
   ],
   "source": [
    "data.head()"
   ]
  },
  {
   "cell_type": "markdown",
   "metadata": {},
   "source": [
    "# Feature Engineering"
   ]
  },
  {
   "cell_type": "code",
   "execution_count": 7,
   "metadata": {},
   "outputs": [],
   "source": [
    "# Extract year  of \"data_pedido\"\n",
    "data['ano'] = data['data_pedido'].dt.year\n",
    "\n",
    "# Extract weekday  of \"data_pedido\"\n",
    "data['semana']=  data[['data_pedido']].apply(lambda x: dt.datetime.strftime(x['data_pedido'], '%A'), axis=1)\n",
    "\n",
    "# replace name in english to portuguese\n",
    "data.loc[:, 'semana'].replace(['Monday', 'Sunday', 'Friday','Tuesday','Wednesday','Thursday','Saturday'], \n",
    "                                           ['Segunda', 'Domingo', 'Sexta','Terça','Quarta','Quinta','Sabado'], inplace=True)\n",
    "# Extract name of month of \"data_pedido\"\n",
    "data['mes'] = data['data_pedido'].apply(lambda x: x.strftime('%B')) \n",
    "\n",
    "# replace name in english to portuguese\n",
    "data.loc[:, 'mes'].replace(['January','February','November','December','October'], \n",
    "                                     ['Jan', 'Fev', 'Nov','Dez','Out'], inplace=True)\n",
    "\n",
    "# replace values numeric to binary\n",
    "data['borda'] = data['borda'].map(lambda x : 'nao' if x <= 0 else 'sim')\n",
    "\n",
    "# replace values numeric to binary\n",
    "data['refrigerante'] = data['refrigerante'].map(lambda x : 'nao' if x <= 0 else 'sim')"
   ]
  },
  {
   "cell_type": "code",
   "execution_count": 8,
   "metadata": {},
   "outputs": [
    {
     "data": {
      "text/html": [
       "<div>\n",
       "<style scoped>\n",
       "    .dataframe tbody tr th:only-of-type {\n",
       "        vertical-align: middle;\n",
       "    }\n",
       "\n",
       "    .dataframe tbody tr th {\n",
       "        vertical-align: top;\n",
       "    }\n",
       "\n",
       "    .dataframe thead th {\n",
       "        text-align: right;\n",
       "    }\n",
       "</style>\n",
       "<table border=\"1\" class=\"dataframe\">\n",
       "  <thead>\n",
       "    <tr style=\"text-align: right;\">\n",
       "      <th></th>\n",
       "      <th>data_pedido</th>\n",
       "      <th>hora_pedido</th>\n",
       "      <th>tipo_entrega</th>\n",
       "      <th>borda</th>\n",
       "      <th>refrigerante</th>\n",
       "      <th>valor_total</th>\n",
       "      <th>tempo</th>\n",
       "      <th>ano</th>\n",
       "      <th>semana</th>\n",
       "      <th>mes</th>\n",
       "    </tr>\n",
       "  </thead>\n",
       "  <tbody>\n",
       "    <tr>\n",
       "      <td>0</td>\n",
       "      <td>2011-10-07</td>\n",
       "      <td>18</td>\n",
       "      <td>Buscar</td>\n",
       "      <td>nao</td>\n",
       "      <td>nao</td>\n",
       "      <td>32.0</td>\n",
       "      <td>30</td>\n",
       "      <td>2011</td>\n",
       "      <td>Sexta</td>\n",
       "      <td>Out</td>\n",
       "    </tr>\n",
       "    <tr>\n",
       "      <td>1</td>\n",
       "      <td>2011-10-07</td>\n",
       "      <td>18</td>\n",
       "      <td>Buscar</td>\n",
       "      <td>nao</td>\n",
       "      <td>nao</td>\n",
       "      <td>30.0</td>\n",
       "      <td>43</td>\n",
       "      <td>2011</td>\n",
       "      <td>Sexta</td>\n",
       "      <td>Out</td>\n",
       "    </tr>\n",
       "    <tr>\n",
       "      <td>2</td>\n",
       "      <td>2011-10-07</td>\n",
       "      <td>18</td>\n",
       "      <td>Buscar</td>\n",
       "      <td>nao</td>\n",
       "      <td>nao</td>\n",
       "      <td>27.0</td>\n",
       "      <td>42</td>\n",
       "      <td>2011</td>\n",
       "      <td>Sexta</td>\n",
       "      <td>Out</td>\n",
       "    </tr>\n",
       "    <tr>\n",
       "      <td>3</td>\n",
       "      <td>2011-10-07</td>\n",
       "      <td>18</td>\n",
       "      <td>Buscar</td>\n",
       "      <td>nao</td>\n",
       "      <td>nao</td>\n",
       "      <td>30.0</td>\n",
       "      <td>40</td>\n",
       "      <td>2011</td>\n",
       "      <td>Sexta</td>\n",
       "      <td>Out</td>\n",
       "    </tr>\n",
       "    <tr>\n",
       "      <td>4</td>\n",
       "      <td>2011-10-07</td>\n",
       "      <td>18</td>\n",
       "      <td>Buscar</td>\n",
       "      <td>nao</td>\n",
       "      <td>nao</td>\n",
       "      <td>30.0</td>\n",
       "      <td>23</td>\n",
       "      <td>2011</td>\n",
       "      <td>Sexta</td>\n",
       "      <td>Out</td>\n",
       "    </tr>\n",
       "  </tbody>\n",
       "</table>\n",
       "</div>"
      ],
      "text/plain": [
       "  data_pedido  hora_pedido tipo_entrega borda refrigerante  valor_total  \\\n",
       "0  2011-10-07           18       Buscar   nao          nao         32.0   \n",
       "1  2011-10-07           18       Buscar   nao          nao         30.0   \n",
       "2  2011-10-07           18       Buscar   nao          nao         27.0   \n",
       "3  2011-10-07           18       Buscar   nao          nao         30.0   \n",
       "4  2011-10-07           18       Buscar   nao          nao         30.0   \n",
       "\n",
       "   tempo   ano semana  mes  \n",
       "0     30  2011  Sexta  Out  \n",
       "1     43  2011  Sexta  Out  \n",
       "2     42  2011  Sexta  Out  \n",
       "3     40  2011  Sexta  Out  \n",
       "4     23  2011  Sexta  Out  "
      ]
     },
     "execution_count": 8,
     "metadata": {},
     "output_type": "execute_result"
    }
   ],
   "source": [
    "data.head()"
   ]
  },
  {
   "cell_type": "code",
   "execution_count": 9,
   "metadata": {},
   "outputs": [
    {
     "data": {
      "text/plain": [
       "Text(0, 0.5, 'Number of Pizza')"
      ]
     },
     "execution_count": 9,
     "metadata": {},
     "output_type": "execute_result"
    },
    {
     "data": {
      "image/png": "[encoded data removed]",
      "text/plain": [
       "<Figure size 1440x432 with 1 Axes>"
      ]
     },
     "metadata": {
      "needs_background": "light"
     },
     "output_type": "display_data"
    }
   ],
   "source": [
    "data['hora_pedido'].value_counts().sort_index().plot(kind='bar',figsize=(20,6), rot=0)\n",
    "plt.xlabel('Hour')\n",
    "plt.ylabel('Number of Pizza')"
   ]
  },
  {
   "cell_type": "code",
   "execution_count": 10,
   "metadata": {},
   "outputs": [
    {
     "data": {
      "text/plain": [
       "<matplotlib.axes._subplots.AxesSubplot at 0x1154a04ef48>"
      ]
     },
     "execution_count": 10,
     "metadata": {},
     "output_type": "execute_result"
    },
    {
     "data": {
      "image/png": "[encoded data removed]",
      "text/plain": [
       "<Figure size 1440x432 with 1 Axes>"
      ]
     },
     "metadata": {
      "needs_background": "light"
     },
     "output_type": "display_data"
    }
   ],
   "source": [
    "data['semana'] = pd.Categorical(data['semana'], categories=\n",
    "    ['Segunda','Terça','Quarta','Quinta','Sexta','Sabado', 'Domingo'],\n",
    "    ordered=True)\n",
    "data['semana'].value_counts().sort_index().plot(kind='bar', figsize=(20,6), rot=45)"
   ]
  },
  {
   "cell_type": "code",
   "execution_count": 11,
   "metadata": {},
   "outputs": [
    {
     "data": {
      "text/plain": [
       "<matplotlib.axes._subplots.AxesSubplot at 0x11549dfd648>"
      ]
     },
     "execution_count": 11,
     "metadata": {},
     "output_type": "execute_result"
    },
    {
     "data": {
      "image/png": "[encoded data removed]",
      "text/plain": [
       "<Figure size 1440x432 with 1 Axes>"
      ]
     },
     "metadata": {
      "needs_background": "light"
     },
     "output_type": "display_data"
    }
   ],
   "source": [
    "data['mes'].value_counts().plot(kind='bar',figsize=(20,6), rot=45)"
   ]
  },
  {
   "cell_type": "code",
   "execution_count": 12,
   "metadata": {},
   "outputs": [
    {
     "data": {
      "text/plain": [
       "<matplotlib.axes._subplots.AxesSubplot at 0x1154a2889c8>"
      ]
     },
     "execution_count": 12,
     "metadata": {},
     "output_type": "execute_result"
    },
    {
     "data": {
      "image/png": "[encoded data removed]",
      "text/plain": [
       "<Figure size 1440x432 with 1 Axes>"
      ]
     },
     "metadata": {
      "needs_background": "light"
     },
     "output_type": "display_data"
    }
   ],
   "source": [
    "data['tipo_entrega'].value_counts().plot(kind='bar',figsize=(20,6), rot=45)\n",
    "\n",
    "data['semana'] = pd.Categorical(data['semana'], categories=\n",
    "    ['Segunda','Terça','Quarta','Quinta','Sexta','Sabado', 'Domingo'],\n",
    "    ordered=True)\n",
    "data['semana'].value_counts().sort_index().plot(kind='bar', figsize=(20,6), rot=45)"
   ]
  },
  {
   "cell_type": "code",
   "execution_count": 13,
   "metadata": {},
   "outputs": [
    {
     "data": {
      "text/html": [
       "<div>\n",
       "<style scoped>\n",
       "    .dataframe tbody tr th:only-of-type {\n",
       "        vertical-align: middle;\n",
       "    }\n",
       "\n",
       "    .dataframe tbody tr th {\n",
       "        vertical-align: top;\n",
       "    }\n",
       "\n",
       "    .dataframe thead th {\n",
       "        text-align: right;\n",
       "    }\n",
       "</style>\n",
       "<table border=\"1\" class=\"dataframe\">\n",
       "  <thead>\n",
       "    <tr style=\"text-align: right;\">\n",
       "      <th></th>\n",
       "      <th>data_pedido</th>\n",
       "      <th>hora_pedido</th>\n",
       "      <th>tipo_entrega</th>\n",
       "      <th>borda</th>\n",
       "      <th>refrigerante</th>\n",
       "      <th>valor_total</th>\n",
       "      <th>tempo</th>\n",
       "      <th>ano</th>\n",
       "      <th>semana</th>\n",
       "      <th>mes</th>\n",
       "    </tr>\n",
       "  </thead>\n",
       "  <tbody>\n",
       "    <tr>\n",
       "      <td>0</td>\n",
       "      <td>2011-10-07</td>\n",
       "      <td>18</td>\n",
       "      <td>Buscar</td>\n",
       "      <td>nao</td>\n",
       "      <td>nao</td>\n",
       "      <td>32.0</td>\n",
       "      <td>30</td>\n",
       "      <td>2011</td>\n",
       "      <td>Sexta</td>\n",
       "      <td>Out</td>\n",
       "    </tr>\n",
       "    <tr>\n",
       "      <td>1</td>\n",
       "      <td>2011-10-07</td>\n",
       "      <td>18</td>\n",
       "      <td>Buscar</td>\n",
       "      <td>nao</td>\n",
       "      <td>nao</td>\n",
       "      <td>30.0</td>\n",
       "      <td>43</td>\n",
       "      <td>2011</td>\n",
       "      <td>Sexta</td>\n",
       "      <td>Out</td>\n",
       "    </tr>\n",
       "    <tr>\n",
       "      <td>2</td>\n",
       "      <td>2011-10-07</td>\n",
       "      <td>18</td>\n",
       "      <td>Buscar</td>\n",
       "      <td>nao</td>\n",
       "      <td>nao</td>\n",
       "      <td>27.0</td>\n",
       "      <td>42</td>\n",
       "      <td>2011</td>\n",
       "      <td>Sexta</td>\n",
       "      <td>Out</td>\n",
       "    </tr>\n",
       "    <tr>\n",
       "      <td>3</td>\n",
       "      <td>2011-10-07</td>\n",
       "      <td>18</td>\n",
       "      <td>Buscar</td>\n",
       "      <td>nao</td>\n",
       "      <td>nao</td>\n",
       "      <td>30.0</td>\n",
       "      <td>40</td>\n",
       "      <td>2011</td>\n",
       "      <td>Sexta</td>\n",
       "      <td>Out</td>\n",
       "    </tr>\n",
       "    <tr>\n",
       "      <td>4</td>\n",
       "      <td>2011-10-07</td>\n",
       "      <td>18</td>\n",
       "      <td>Buscar</td>\n",
       "      <td>nao</td>\n",
       "      <td>nao</td>\n",
       "      <td>30.0</td>\n",
       "      <td>23</td>\n",
       "      <td>2011</td>\n",
       "      <td>Sexta</td>\n",
       "      <td>Out</td>\n",
       "    </tr>\n",
       "  </tbody>\n",
       "</table>\n",
       "</div>"
      ],
      "text/plain": [
       "  data_pedido  hora_pedido tipo_entrega borda refrigerante  valor_total  \\\n",
       "0  2011-10-07           18       Buscar   nao          nao         32.0   \n",
       "1  2011-10-07           18       Buscar   nao          nao         30.0   \n",
       "2  2011-10-07           18       Buscar   nao          nao         27.0   \n",
       "3  2011-10-07           18       Buscar   nao          nao         30.0   \n",
       "4  2011-10-07           18       Buscar   nao          nao         30.0   \n",
       "\n",
       "   tempo   ano semana  mes  \n",
       "0     30  2011  Sexta  Out  \n",
       "1     43  2011  Sexta  Out  \n",
       "2     42  2011  Sexta  Out  \n",
       "3     40  2011  Sexta  Out  \n",
       "4     23  2011  Sexta  Out  "
      ]
     },
     "execution_count": 13,
     "metadata": {},
     "output_type": "execute_result"
    }
   ],
   "source": [
    "data.head()"
   ]
  },
  {
   "cell_type": "code",
   "execution_count": 14,
   "metadata": {},
   "outputs": [],
   "source": [
    "# records removed  of year 2015\n",
    "data = data[data['ano'] != 2015]"
   ]
  },
  {
   "cell_type": "code",
   "execution_count": 15,
   "metadata": {},
   "outputs": [],
   "source": [
    "# Creating intevals to column \" hora_pedido \"\n",
    "bins =  [   0,      18,   21,      np.inf]\n",
    "names = [\"inicio\",  \"pico\",  \"final_expediente\"]\n",
    "data['hora_pedido'] = pd.cut(data['hora_pedido'], bins, labels=names)"
   ]
  },
  {
   "cell_type": "code",
   "execution_count": 16,
   "metadata": {},
   "outputs": [
    {
     "data": {
      "image/png": "[encoded data removed]",
      "text/plain": [
       "<Figure size 432x288 with 1 Axes>"
      ]
     },
     "metadata": {
      "needs_background": "light"
     },
     "output_type": "display_data"
    }
   ],
   "source": [
    "# Analyzing Distribution of \" valor_total\"\n",
    "distribution = data['valor_total']\n",
    "hist = plt.hist(distribution)"
   ]
  },
  {
   "cell_type": "code",
   "execution_count": 17,
   "metadata": {},
   "outputs": [
    {
     "data": {
      "text/plain": [
       "array([10., 14., 18., 22., 26., 30., 34., 38., 42., 46., 50.])"
      ]
     },
     "execution_count": 17,
     "metadata": {},
     "output_type": "execute_result"
    }
   ],
   "source": [
    "# intervals\n",
    "hist[1]"
   ]
  },
  {
   "cell_type": "code",
   "execution_count": 18,
   "metadata": {},
   "outputs": [],
   "source": [
    "# Creating intevals to column \" valor_total \"\n",
    "bins =  [   10,      14,        18,          22,     26,       30,        34,       38,             42,            46, np.inf]\n",
    "names = [\"10-14\",  \"14-18\",  \"18-22\",    \"22-26\",  \"26-30\",   \"30-34\",  \"34-38\",  \"38-42\",       \"42-46\",       \"46-50\"]\n",
    "data['valor_total'] = pd.cut(data['valor_total'], bins, labels=names)"
   ]
  },
  {
   "cell_type": "code",
   "execution_count": 19,
   "metadata": {},
   "outputs": [
    {
     "data": {
      "image/png": "[encoded data removed]",
      "text/plain": [
       "<Figure size 432x288 with 1 Axes>"
      ]
     },
     "metadata": {
      "needs_background": "light"
     },
     "output_type": "display_data"
    }
   ],
   "source": [
    "# Analyzing Distribution of \" tempo \"\n",
    "distribution_tempo = data['tempo']\n",
    "hist = plt.hist(distribution_tempo,bins=4)"
   ]
  },
  {
   "cell_type": "code",
   "execution_count": 20,
   "metadata": {},
   "outputs": [
    {
     "data": {
      "text/plain": [
       "array([10.  , 21.25, 32.5 , 43.75, 55.  ])"
      ]
     },
     "execution_count": 20,
     "metadata": {},
     "output_type": "execute_result"
    }
   ],
   "source": [
    "# intervals\n",
    "hist[1]"
   ]
  },
  {
   "cell_type": "code",
   "execution_count": 21,
   "metadata": {},
   "outputs": [],
   "source": [
    "# Creating intevals to column \" tempo \"\n",
    "bins =  [   10,      22,        33,          44,      np.inf]\n",
    "names = [\"10-22\",  \"22-33\",  \"33-44\",    \"44-55\"]\n",
    "data['tempo'] = pd.cut(data['tempo'], bins, labels=names)"
   ]
  },
  {
   "cell_type": "code",
   "execution_count": 23,
   "metadata": {},
   "outputs": [
    {
     "data": {
      "text/html": [
       "<div>\n",
       "<style scoped>\n",
       "    .dataframe tbody tr th:only-of-type {\n",
       "        vertical-align: middle;\n",
       "    }\n",
       "\n",
       "    .dataframe tbody tr th {\n",
       "        vertical-align: top;\n",
       "    }\n",
       "\n",
       "    .dataframe thead th {\n",
       "        text-align: right;\n",
       "    }\n",
       "</style>\n",
       "<table border=\"1\" class=\"dataframe\">\n",
       "  <thead>\n",
       "    <tr style=\"text-align: right;\">\n",
       "      <th></th>\n",
       "      <th>data_pedido</th>\n",
       "      <th>hora_pedido</th>\n",
       "      <th>tipo_entrega</th>\n",
       "      <th>borda</th>\n",
       "      <th>refrigerante</th>\n",
       "      <th>valor_total</th>\n",
       "      <th>tempo</th>\n",
       "      <th>ano</th>\n",
       "      <th>semana</th>\n",
       "      <th>mes</th>\n",
       "    </tr>\n",
       "  </thead>\n",
       "  <tbody>\n",
       "    <tr>\n",
       "      <td>0</td>\n",
       "      <td>2011-10-07</td>\n",
       "      <td>inicio</td>\n",
       "      <td>Buscar</td>\n",
       "      <td>nao</td>\n",
       "      <td>nao</td>\n",
       "      <td>30-34</td>\n",
       "      <td>22-33</td>\n",
       "      <td>2011</td>\n",
       "      <td>Sexta</td>\n",
       "      <td>Out</td>\n",
       "    </tr>\n",
       "    <tr>\n",
       "      <td>1</td>\n",
       "      <td>2011-10-07</td>\n",
       "      <td>inicio</td>\n",
       "      <td>Buscar</td>\n",
       "      <td>nao</td>\n",
       "      <td>nao</td>\n",
       "      <td>26-30</td>\n",
       "      <td>33-44</td>\n",
       "      <td>2011</td>\n",
       "      <td>Sexta</td>\n",
       "      <td>Out</td>\n",
       "    </tr>\n",
       "    <tr>\n",
       "      <td>2</td>\n",
       "      <td>2011-10-07</td>\n",
       "      <td>inicio</td>\n",
       "      <td>Buscar</td>\n",
       "      <td>nao</td>\n",
       "      <td>nao</td>\n",
       "      <td>26-30</td>\n",
       "      <td>33-44</td>\n",
       "      <td>2011</td>\n",
       "      <td>Sexta</td>\n",
       "      <td>Out</td>\n",
       "    </tr>\n",
       "    <tr>\n",
       "      <td>3</td>\n",
       "      <td>2011-10-07</td>\n",
       "      <td>inicio</td>\n",
       "      <td>Buscar</td>\n",
       "      <td>nao</td>\n",
       "      <td>nao</td>\n",
       "      <td>26-30</td>\n",
       "      <td>33-44</td>\n",
       "      <td>2011</td>\n",
       "      <td>Sexta</td>\n",
       "      <td>Out</td>\n",
       "    </tr>\n",
       "    <tr>\n",
       "      <td>4</td>\n",
       "      <td>2011-10-07</td>\n",
       "      <td>inicio</td>\n",
       "      <td>Buscar</td>\n",
       "      <td>nao</td>\n",
       "      <td>nao</td>\n",
       "      <td>26-30</td>\n",
       "      <td>22-33</td>\n",
       "      <td>2011</td>\n",
       "      <td>Sexta</td>\n",
       "      <td>Out</td>\n",
       "    </tr>\n",
       "  </tbody>\n",
       "</table>\n",
       "</div>"
      ],
      "text/plain": [
       "  data_pedido hora_pedido tipo_entrega borda refrigerante valor_total  tempo  \\\n",
       "0  2011-10-07      inicio       Buscar   nao          nao       30-34  22-33   \n",
       "1  2011-10-07      inicio       Buscar   nao          nao       26-30  33-44   \n",
       "2  2011-10-07      inicio       Buscar   nao          nao       26-30  33-44   \n",
       "3  2011-10-07      inicio       Buscar   nao          nao       26-30  33-44   \n",
       "4  2011-10-07      inicio       Buscar   nao          nao       26-30  22-33   \n",
       "\n",
       "    ano semana  mes  \n",
       "0  2011  Sexta  Out  \n",
       "1  2011  Sexta  Out  \n",
       "2  2011  Sexta  Out  \n",
       "3  2011  Sexta  Out  \n",
       "4  2011  Sexta  Out  "
      ]
     },
     "execution_count": 23,
     "metadata": {},
     "output_type": "execute_result"
    }
   ],
   "source": [
    "data.head()"
   ]
  },
  {
   "cell_type": "code",
   "execution_count": 28,
   "metadata": {},
   "outputs": [],
   "source": [
    "from apyori import apriori"
   ]
  },
  {
   "cell_type": "code",
   "execution_count": 30,
   "metadata": {},
   "outputs": [
    {
     "data": {
      "text/plain": [
       "<generator object apriori at 0x000001154A8E49C8>"
      ]
     },
     "execution_count": 30,
     "metadata": {},
     "output_type": "execute_result"
    }
   ],
   "source": [
    "rules = apriori(data, min_support=0.3)\n",
    "rules"
   ]
  },
  {
   "cell_type": "code",
   "execution_count": null,
   "metadata": {},
   "outputs": [],
   "source": []
  }
 ],
 "metadata": {
  "kernelspec": {
   "display_name": "Python 3",
   "language": "python",
   "name": "python3"
  },
  "language_info": {
   "codemirror_mode": {
    "name": "ipython",
    "version": 3
   },
   "file_extension": ".py",
   "mimetype": "text/x-python",
   "name": "python",
   "nbconvert_exporter": "python",
   "pygments_lexer": "ipython3",
   "version": "3.7.4"
  }
 },
 "nbformat": 4,
 "nbformat_minor": 4
}
